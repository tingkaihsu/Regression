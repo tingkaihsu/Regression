{
 "cells": [
  {
   "cell_type": "code",
   "execution_count": 42,
   "id": "e3884aa9",
   "metadata": {},
   "outputs": [],
   "source": [
    "from statistics import mean \n",
    "from statistics import variance\n",
    "from statistics import stdev\n",
    "from math import isnan\n",
    "#This file is designed for calculate the statistics parameters\n",
    "def Sta(filepath):\n",
    "    with open(filepath,'r') as file:\n",
    "        lines = file.readlines()\n",
    "    #go through the predictions\n",
    "    data = []\n",
    "    for line in lines:\n",
    "        data.append(float(line))\n",
    "    print('mean of data: ', mean(data))\n",
    "    print('standard deviation:', stdev(data))"
   ]
  },
  {
   "cell_type": "code",
   "execution_count": 47,
   "id": "086bb6b8",
   "metadata": {},
   "outputs": [
    {
     "name": "stdout",
     "output_type": "stream",
     "text": [
      "mean of data:  5.273693226168614\n",
      "standard deviation: 0.06745615009664585\n"
     ]
    }
   ],
   "source": [
    "Sta('30epoches/30predictions.txt')"
   ]
  },
  {
   "cell_type": "raw",
   "id": "5771f97e",
   "metadata": {},
   "source": []
  }
 ],
 "metadata": {
  "kernelspec": {
   "display_name": "Python 3",
   "language": "python",
   "name": "python3"
  },
  "language_info": {
   "codemirror_mode": {
    "name": "ipython",
    "version": 3
   },
   "file_extension": ".py",
   "mimetype": "text/x-python",
   "name": "python",
   "nbconvert_exporter": "python",
   "pygments_lexer": "ipython3",
   "version": "3.5.5"
  }
 },
 "nbformat": 4,
 "nbformat_minor": 5
}
